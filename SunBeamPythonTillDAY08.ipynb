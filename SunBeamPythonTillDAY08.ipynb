{
  "nbformat": 4,
  "nbformat_minor": 0,
  "metadata": {
    "colab": {
      "provenance": []
    },
    "kernelspec": {
      "name": "python3",
      "display_name": "Python 3"
    },
    "language_info": {
      "name": "python"
    }
  },
  "cells": [
    {
      "cell_type": "markdown",
      "source": [
        "In python data type is inferred by python itself."
      ],
      "metadata": {
        "id": "XlmsC1WINBSX"
      }
    },
    {
      "cell_type": "markdown",
      "source": [],
      "metadata": {
        "id": "tSL57IhrNALX"
      }
    },
    {
      "cell_type": "code",
      "source": [
        "name=\"Hritik\""
      ],
      "metadata": {
        "id": "LD8xS3dpPV5z"
      },
      "execution_count": null,
      "outputs": []
    },
    {
      "cell_type": "code",
      "source": [
        "print(f\"Name is ={name}\")"
      ],
      "metadata": {
        "colab": {
          "base_uri": "https://localhost:8080/"
        },
        "id": "5MiQdy3yPYY2",
        "outputId": "66c26f89-b734-4307-d820-f70bf89aef85"
      },
      "execution_count": null,
      "outputs": [
        {
          "output_type": "stream",
          "name": "stdout",
          "text": [
            "Name is =Hritik\n"
          ]
        }
      ]
    },
    {
      "cell_type": "code",
      "source": [
        "def function1():\n",
        "  #document string: help about function\n",
        "  \"\"\"This is  a test Function\"\"\"\n",
        "  print(\"inside function\")"
      ],
      "metadata": {
        "id": "bRJIB9QwPcUp"
      },
      "execution_count": null,
      "outputs": []
    },
    {
      "cell_type": "markdown",
      "source": [
        "#This __doc__ function is used to print doc that we have attached at the start of the funtion"
      ],
      "metadata": {
        "id": "ay6pfh7-7MYe"
      }
    },
    {
      "cell_type": "code",
      "source": [
        "print(function1.__doc__)"
      ],
      "metadata": {
        "colab": {
          "base_uri": "https://localhost:8080/"
        },
        "id": "Ls8OiBDS67QC",
        "outputId": "21b9982d-a45c-4855-838d-9ffaef835dbd"
      },
      "execution_count": null,
      "outputs": [
        {
          "output_type": "stream",
          "name": "stdout",
          "text": [
            "This is  a test Function\n"
          ]
        }
      ]
    },
    {
      "cell_type": "code",
      "source": [],
      "metadata": {
        "id": "GE6kRvtg7Ctn"
      },
      "execution_count": null,
      "outputs": []
    },
    {
      "cell_type": "markdown",
      "source": [
        "#Function\n"
      ],
      "metadata": {
        "id": "uXr5-ygX9XUT"
      }
    },
    {
      "cell_type": "markdown",
      "source": [
        "Here we have created function and print statement with f string."
      ],
      "metadata": {
        "id": "vIyMIoyG9xuN"
      }
    },
    {
      "cell_type": "code",
      "source": [
        "def function1(p1,p2,p3):\n",
        "  print(f\"Value of P1={p1}\")\n",
        "  print(f\"Value of P2={p2}\")\n",
        "  print(f\"Value of P3={p3}\")"
      ],
      "metadata": {
        "id": "wiRkVvRU9bJG"
      },
      "execution_count": null,
      "outputs": []
    },
    {
      "cell_type": "code",
      "source": [
        "function1(10,20,30)     #Normal Function call with parameter"
      ],
      "metadata": {
        "colab": {
          "base_uri": "https://localhost:8080/"
        },
        "id": "S2ubZSiE9vj5",
        "outputId": "fe072c8a-6a18-4745-ac66-73a1e9f461d0"
      },
      "execution_count": null,
      "outputs": [
        {
          "output_type": "stream",
          "name": "stdout",
          "text": [
            "Value of P1=10\n",
            "Value of P2=20\n",
            "Value of P3=30\n"
          ]
        }
      ]
    },
    {
      "cell_type": "code",
      "source": [
        "function1(p1=10,p2=20,p3=30)   #Named Parameter and Function Call"
      ],
      "metadata": {
        "colab": {
          "base_uri": "https://localhost:8080/"
        },
        "id": "0c3OHyxp98Fh",
        "outputId": "8afb9e18-7f65-437f-97d1-e6a0a0e741cb"
      },
      "execution_count": null,
      "outputs": [
        {
          "output_type": "stream",
          "name": "stdout",
          "text": [
            "Value of P1=10\n",
            "Value of P2=20\n",
            "Value of P3=30\n"
          ]
        }
      ]
    },
    {
      "cell_type": "code",
      "source": [
        "function1(p3=30,p2=20,p1=\"Pranjal\")  #We can change the order of value in this case(Named Parameter)"
      ],
      "metadata": {
        "colab": {
          "base_uri": "https://localhost:8080/"
        },
        "id": "z-GuMAf3-Ja0",
        "outputId": "7263d4ba-80d1-4590-e2c1-8265477b84d5"
      },
      "execution_count": null,
      "outputs": [
        {
          "output_type": "stream",
          "name": "stdout",
          "text": [
            "Value of P1=Pranjal\n",
            "Value of P2=20\n",
            "Value of P3=30\n"
          ]
        }
      ]
    },
    {
      "cell_type": "code",
      "source": [
        "function1(10,p2=30,p3=50)  #combination of postion para and named parameter\n",
        " #function1(p1=10,30,p3=50) This is not allowed"
      ],
      "metadata": {
        "colab": {
          "base_uri": "https://localhost:8080/"
        },
        "id": "rVftPaKr-eC9",
        "outputId": "36f715fd-17df-4b21-9484-db89a69110da"
      },
      "execution_count": null,
      "outputs": [
        {
          "output_type": "stream",
          "name": "stdout",
          "text": [
            "Value of P1=10\n",
            "Value of P2=30\n",
            "Value of P3=50\n"
          ]
        }
      ]
    },
    {
      "cell_type": "markdown",
      "source": [
        "**DEFAULT VALUES**"
      ],
      "metadata": {
        "id": "ut6uYeLSBDEW"
      }
    },
    {
      "cell_type": "markdown",
      "source": [
        "When you have large parameter list go for named parameter otherwise go for positional parameter"
      ],
      "metadata": {
        "id": "-__VS2rgCxb2"
      }
    },
    {
      "cell_type": "code",
      "source": [
        "def function2(p1,p2,p3=30):\n",
        "  print(f\"Value of P1={p1}\")\n",
        "  print(f\"Value of P2={p2}\")"
      ],
      "metadata": {
        "id": "zxp5_51qBQKl"
      },
      "execution_count": null,
      "outputs": []
    },
    {
      "cell_type": "code",
      "source": [
        "function2(10,20)"
      ],
      "metadata": {
        "colab": {
          "base_uri": "https://localhost:8080/"
        },
        "id": "dhiyshlgBdrf",
        "outputId": "6f26d204-475e-4856-c53a-b507246ca666"
      },
      "execution_count": null,
      "outputs": [
        {
          "output_type": "stream",
          "name": "stdout",
          "text": [
            "Value of P1=10\n",
            "Value of P2=20\n"
          ]
        }
      ]
    },
    {
      "cell_type": "markdown",
      "source": [
        "#Variable Length Argument Functions"
      ],
      "metadata": {
        "id": "KAJCmuNADkgp"
      }
    },
    {
      "cell_type": "markdown",
      "source": [
        "**Var Args collects all the values and gives you in the form of \"Tuple\"**"
      ],
      "metadata": {
        "id": "X6Ae_U41GBKk"
      }
    },
    {
      "cell_type": "code",
      "source": [
        "def function3(*args):     #args is just a name we can use anything here conventionaly we use *args.\n",
        "  print(\"Inside Function 3\")\n",
        "  print(f\"Agrs ={args}\")"
      ],
      "metadata": {
        "id": "ZNrRkw3NBhVO"
      },
      "execution_count": null,
      "outputs": []
    },
    {
      "cell_type": "code",
      "source": [
        "function3(10,20,30)\n",
        "function3(10)  #It depends on you how many parameter you passed."
      ],
      "metadata": {
        "colab": {
          "base_uri": "https://localhost:8080/"
        },
        "id": "Fl0uo86OE9bL",
        "outputId": "a3311bb6-51dc-4986-ddf1-5d4513b81411"
      },
      "execution_count": null,
      "outputs": [
        {
          "output_type": "stream",
          "name": "stdout",
          "text": [
            "Inside Function 3\n",
            "Agrs =(10, 20, 30)\n",
            "Inside Function 3\n",
            "Agrs =(10,)\n"
          ]
        }
      ]
    },
    {
      "cell_type": "code",
      "source": [
        "function3(p1=10,p2=30) #This will give you error To overcome this we use Keyworded Arguments."
      ],
      "metadata": {
        "id": "bHV4zNTgKCGB",
        "colab": {
          "base_uri": "https://localhost:8080/",
          "height": 171
        },
        "outputId": "bbdb694c-5194-43c5-ef01-b0f91d711876"
      },
      "execution_count": null,
      "outputs": [
        {
          "output_type": "error",
          "ename": "TypeError",
          "evalue": "ignored",
          "traceback": [
            "\u001b[0;31m---------------------------------------------------------------------------\u001b[0m",
            "\u001b[0;31mTypeError\u001b[0m                                 Traceback (most recent call last)",
            "\u001b[0;32m<ipython-input-14-6252636be4f7>\u001b[0m in \u001b[0;36m<cell line: 1>\u001b[0;34m()\u001b[0m\n\u001b[0;32m----> 1\u001b[0;31m \u001b[0mfunction3\u001b[0m\u001b[0;34m(\u001b[0m\u001b[0mp1\u001b[0m\u001b[0;34m=\u001b[0m\u001b[0;36m10\u001b[0m\u001b[0;34m,\u001b[0m\u001b[0mp2\u001b[0m\u001b[0;34m=\u001b[0m\u001b[0;36m30\u001b[0m\u001b[0;34m)\u001b[0m \u001b[0;31m#This will give you error To overcome this we use Keyworded Arguments.\u001b[0m\u001b[0;34m\u001b[0m\u001b[0;34m\u001b[0m\u001b[0m\n\u001b[0m",
            "\u001b[0;31mTypeError\u001b[0m: function3() got an unexpected keyword argument 'p1'"
          ]
        }
      ]
    },
    {
      "cell_type": "markdown",
      "source": [
        "#Keyworded Arguments"
      ],
      "metadata": {
        "id": "6Ucmu-nxJji4"
      }
    },
    {
      "cell_type": "markdown",
      "source": [
        "**This will give output in the form of dictionary.**"
      ],
      "metadata": {
        "id": "1vRJRHkOLBwT"
      }
    },
    {
      "cell_type": "code",
      "source": [
        "def function4(**kwargs):\n",
        "  print(\"Inside Function 4\")\n",
        "  print(f\"Agrs ={kwargs}\")"
      ],
      "metadata": {
        "id": "Z-kjZPerFfel"
      },
      "execution_count": null,
      "outputs": []
    },
    {
      "cell_type": "code",
      "source": [
        "function4(p1=10,p2=20)"
      ],
      "metadata": {
        "colab": {
          "base_uri": "https://localhost:8080/"
        },
        "id": "w2k4mBQeKecA",
        "outputId": "2cdc2702-3c4f-463d-8e48-644ac7453559"
      },
      "execution_count": null,
      "outputs": [
        {
          "output_type": "stream",
          "name": "stdout",
          "text": [
            "Inside Function 4\n",
            "Agrs ={'p1': 10, 'p2': 20}\n"
          ]
        }
      ]
    },
    {
      "cell_type": "markdown",
      "source": [
        "#args is TUPLE and kwargs is DICTIONARY"
      ],
      "metadata": {
        "id": "UZAzrpFlLSQx"
      }
    },
    {
      "cell_type": "markdown",
      "source": [
        "**WE CANNOT USE DEFAULT ARGUMENT WITH VARIABLE NO OF ARGUMENTS**"
      ],
      "metadata": {
        "id": "zxVdbR_rMjo_"
      }
    },
    {
      "cell_type": "markdown",
      "source": [
        "#EMPTY FUNCTION"
      ],
      "metadata": {
        "id": "Uku52QgbNyjs"
      }
    },
    {
      "cell_type": "code",
      "source": [
        "def function5():\n",
        "  pass"
      ],
      "metadata": {
        "id": "kaiTDQ4pKmDj"
      },
      "execution_count": null,
      "outputs": []
    },
    {
      "cell_type": "markdown",
      "source": [
        "Behind the Scene python treate every function as a Variable\n"
      ],
      "metadata": {
        "id": "Z2MAg5FXnb-A"
      }
    },
    {
      "cell_type": "code",
      "source": [
        "def function6():\n",
        "  print(\"Function 6\")"
      ],
      "metadata": {
        "id": "VVZi6I9AN79L"
      },
      "execution_count": null,
      "outputs": []
    },
    {
      "cell_type": "code",
      "source": [
        "print(f\"function6 ={function6}\")\n",
        "print(f\"Type of function6 ={type(function6)}\")"
      ],
      "metadata": {
        "colab": {
          "base_uri": "https://localhost:8080/"
        },
        "id": "OYRuUpFQqCCP",
        "outputId": "cd7722e2-ea0a-4c10-e6f6-3c132db482d4"
      },
      "execution_count": null,
      "outputs": [
        {
          "output_type": "stream",
          "name": "stdout",
          "text": [
            "function6 =<function function6 at 0x798d35763760>\n",
            "Type of function6 =<class 'function'>\n"
          ]
        }
      ]
    },
    {
      "cell_type": "markdown",
      "source": [
        "*IN python function overloading is not supported function overrding is supported.***"
      ],
      "metadata": {
        "id": "OUNknxpRrx7y"
      }
    },
    {
      "cell_type": "markdown",
      "source": [
        "Type of function is function"
      ],
      "metadata": {
        "id": "ZkYqD5q5uZtr"
      }
    },
    {
      "cell_type": "markdown",
      "source": [
        "LOCAL VARIABLE AND GLOBLE VARIABLE"
      ],
      "metadata": {
        "id": "RK4TocVH2aTf"
      }
    },
    {
      "cell_type": "code",
      "source": [
        "num=100 #this is global variable\n",
        "def function7():\n",
        "  num1=200    #this is local variable and scope is limited to function only\n",
        "  print(f\"Num1 ={num1}\")\n"
      ],
      "metadata": {
        "id": "VzRRqoUmudzR"
      },
      "execution_count": null,
      "outputs": []
    },
    {
      "cell_type": "markdown",
      "source": [
        "IN PYTHON EVERY FUNCTION RETURNS VALUE"
      ],
      "metadata": {
        "id": "elfpbxdzP1Ek"
      }
    },
    {
      "cell_type": "code",
      "source": [
        "myfunction=function7"
      ],
      "metadata": {
        "id": "ciH0-ZVBM2Cg"
      },
      "execution_count": null,
      "outputs": []
    },
    {
      "cell_type": "markdown",
      "source": [
        "#THIS IS CALLED FUNCTION ALIAS WHICH IS ANOTHER NAME GIVEN TO THE FUNCTION WHICH ALSO POINTS TOWARDS THE SAME MEMORY LOCATION WHERE FUNCTION7 REFERS TO ."
      ],
      "metadata": {
        "id": "bS8FicOfRYjp"
      }
    },
    {
      "cell_type": "markdown",
      "source": [
        "myfunction=function7() and myfunction=function are two different things."
      ],
      "metadata": {
        "id": "t1CqyyQUR6Py"
      }
    },
    {
      "cell_type": "markdown",
      "source": [
        "#LAMBDA FUNCTION"
      ],
      "metadata": {
        "id": "5wSXnGDNls9u"
      }
    },
    {
      "cell_type": "markdown",
      "source": [
        "Instead of creating Named function python will ask you to create a LAMBDA Funtion.\n",
        "Lambda function is a function is used to create a \"ananymous function\".Ananymous function are those function which does not have any name."
      ],
      "metadata": {
        "id": "Y_jrTM-tmW9B"
      }
    },
    {
      "cell_type": "code",
      "source": [
        "#Named function:\n",
        "def namedFunction(num):\n",
        "  return num ** 2\n"
      ],
      "metadata": {
        "id": "HwTzQ-ZDRp9A"
      },
      "execution_count": null,
      "outputs": []
    },
    {
      "cell_type": "code",
      "source": [
        "print(f\"Square of 4 is {namedFunction(4)}\")"
      ],
      "metadata": {
        "colab": {
          "base_uri": "https://localhost:8080/"
        },
        "id": "2mv5kT7Ply8v",
        "outputId": "92db126f-ddc0-4bb5-83a2-4a7831499734"
      },
      "execution_count": null,
      "outputs": [
        {
          "output_type": "stream",
          "name": "stdout",
          "text": [
            "Square of 4 is 16\n"
          ]
        }
      ]
    },
    {
      "cell_type": "markdown",
      "source": [
        "**Instead of writing named function we will create a LAMBDA Function**"
      ],
      "metadata": {
        "id": "PVNJ4PE9oHZG"
      }
    },
    {
      "cell_type": "code",
      "source": [
        "square=lambda num:num **2"
      ],
      "metadata": {
        "id": "trgFy4KEnLVy"
      },
      "execution_count": null,
      "outputs": []
    },
    {
      "cell_type": "code",
      "source": [
        "print(f\"Type of Square Function: {type(square)}\") #here square is also a function"
      ],
      "metadata": {
        "colab": {
          "base_uri": "https://localhost:8080/"
        },
        "id": "cHkNDuKYokUf",
        "outputId": "1603a45f-3c93-405b-9a4b-6abf68a1254c"
      },
      "execution_count": null,
      "outputs": [
        {
          "output_type": "stream",
          "name": "stdout",
          "text": [
            "Type of Square Function: <class 'function'>\n"
          ]
        }
      ]
    },
    {
      "cell_type": "code",
      "source": [
        "def add(p1,p2):   #This is done using normal named function\n",
        "  return p1+p2"
      ],
      "metadata": {
        "id": "O6NKzCPCotos"
      },
      "execution_count": null,
      "outputs": []
    },
    {
      "cell_type": "code",
      "source": [
        "print(f\"Addition of p1 and p2 is:{add(10,20)}\")"
      ],
      "metadata": {
        "colab": {
          "base_uri": "https://localhost:8080/"
        },
        "id": "tpgcEs9Vo-yN",
        "outputId": "33c0d983-31dd-45b1-83d4-9bcdbdc35c3c"
      },
      "execution_count": null,
      "outputs": [
        {
          "output_type": "stream",
          "name": "stdout",
          "text": [
            "Addition of p1 and p2 is:30\n"
          ]
        }
      ]
    },
    {
      "cell_type": "code",
      "source": [
        "add=lambda p1,p2:p1+p2"
      ],
      "metadata": {
        "id": "BL7_jfQapIBa"
      },
      "execution_count": null,
      "outputs": []
    },
    {
      "cell_type": "code",
      "source": [
        "print(f\"Addition of p1 and p2 is:{add(10,20)}\")"
      ],
      "metadata": {
        "colab": {
          "base_uri": "https://localhost:8080/"
        },
        "id": "J31QvBrrpW1h",
        "outputId": "99463e8a-b7eb-4bbd-edf2-ba20df4084c4"
      },
      "execution_count": null,
      "outputs": [
        {
          "output_type": "stream",
          "name": "stdout",
          "text": [
            "Addition of p1 and p2 is:30\n"
          ]
        }
      ]
    },
    {
      "cell_type": "code",
      "source": [
        "print(f\"add={add},type of lamda: {type(add)}\")"
      ],
      "metadata": {
        "colab": {
          "base_uri": "https://localhost:8080/"
        },
        "id": "C07ToGlOsOBI",
        "outputId": "ebdb3405-5657-4d1d-dc94-1964eba50ab9"
      },
      "execution_count": null,
      "outputs": [
        {
          "output_type": "stream",
          "name": "stdout",
          "text": [
            "add=<function <lambda> at 0x798d35763130>,type of lamda: <class 'function'>\n"
          ]
        }
      ]
    },
    {
      "cell_type": "markdown",
      "source": [
        "**Syntax: lambda <param>:<body>**\n",
        "**1)lambda must accept ATLEAST ONE parameter**\n",
        "**2)lambda must have ONLY ONE STATEMENT in the body**\n",
        "**3)the body statement must return some value**"
      ],
      "metadata": {
        "id": "sN42bQwWpnar"
      }
    },
    {
      "cell_type": "markdown",
      "source": [
        "**WE CAN PUT LAMBDA DIRECTLY INTO THE PRINT FUNCTION**"
      ],
      "metadata": {
        "id": "fVV1IounrB9T"
      }
    },
    {
      "cell_type": "markdown",
      "source": [
        "**ADV:LAMDBA FUNCTIONS ARE FASTER AS COMPARE TO NAMED FUNCTION**"
      ],
      "metadata": {
        "id": "nIAT_KBVrVRU"
      }
    },
    {
      "cell_type": "markdown",
      "source": [
        "**YOU CAN CALL ANOTHER FUNCTION INSIDE A LAMBDA FUNCTION**"
      ],
      "metadata": {
        "id": "Hl_SjsmLrkBY"
      }
    },
    {
      "cell_type": "markdown",
      "source": [
        "#COLLECTIONS(LIST,TUPLE,SET,DICTIONARY)"
      ],
      "metadata": {
        "id": "x4-1d4dYtviF"
      }
    },
    {
      "cell_type": "markdown",
      "source": [
        "**COLLECTIONS ALLOWS YOU TO STORE MULTIPLE VALUES INTO SINGLE VARIABLE**"
      ],
      "metadata": {
        "id": "vp95U_Wft4bu"
      }
    },
    {
      "cell_type": "markdown",
      "source": [
        "**SIMILAR TO ARRAY IN OTHER PROGRAMMING LANGUAGES,GROUP OF VALUES**"
      ],
      "metadata": {
        "id": "ppbX9DfNuQDP"
      }
    },
    {
      "cell_type": "markdown",
      "source": [
        "#LIST"
      ],
      "metadata": {
        "id": "04WpQG5JuiNk"
      }
    },
    {
      "cell_type": "markdown",
      "source": [
        "**COLLECTION OF SIMILAR AND DISSIMILAR VALUES**"
      ],
      "metadata": {
        "id": "8vQuzSJiunn8"
      }
    },
    {
      "cell_type": "markdown",
      "source": [
        "**LIST IS MUTABLE:ONCE CREATED CAN BE UPDATED**"
      ],
      "metadata": {
        "id": "QQUJCS-zuxk8"
      }
    },
    {
      "cell_type": "markdown",
      "source": [
        "**LIST IS ALWAYS SLOWER THAN TUPLE**"
      ],
      "metadata": {
        "id": "wgQRYhXnvL2l"
      }
    },
    {
      "cell_type": "markdown",
      "source": [
        "**ALLOWS DUPLICATE VALUES**"
      ],
      "metadata": {
        "id": "0G31l3M-vRvb"
      }
    },
    {
      "cell_type": "markdown",
      "source": [
        "**ARRAYS:ALLOWS ONLY SIMILAR VALUES**"
      ],
      "metadata": {
        "id": "6cXzJ9CVvYF2"
      }
    },
    {
      "cell_type": "markdown",
      "source": [
        "**TO CREATE A LIST WE USE [  ].EX: list=[  ]**"
      ],
      "metadata": {
        "id": "lqOgP761vgs_"
      }
    },
    {
      "cell_type": "markdown",
      "source": [
        "**WAYS TO CREATE A LIST**"
      ],
      "metadata": {
        "id": "igTj0Q8e8_nL"
      }
    },
    {
      "cell_type": "code",
      "source": [
        "l1=[10,20,30,40,50]\n",
        "l2=list(range(10,60,10))\n",
        "l3=list([10,20,30,40,50])\n",
        "print(l1)\n",
        "print(l2)\n",
        "print(l3)"
      ],
      "metadata": {
        "colab": {
          "base_uri": "https://localhost:8080/"
        },
        "id": "cicZqgRt8ZIS",
        "outputId": "fcadd50a-1788-4df8-9fc4-b3e38696f7b8"
      },
      "execution_count": null,
      "outputs": [
        {
          "output_type": "stream",
          "name": "stdout",
          "text": [
            "[10, 20, 30, 40, 50]\n",
            "[10, 20, 30, 40, 50]\n",
            "[10, 20, 30, 40, 50]\n"
          ]
        }
      ]
    },
    {
      "cell_type": "code",
      "source": [
        "l1=[10,20,30,40,50]\n",
        "print(f\"type of l1 {type(l1)}\")"
      ],
      "metadata": {
        "colab": {
          "base_uri": "https://localhost:8080/"
        },
        "id": "wY8UGwB3ubSF",
        "outputId": "8e119372-9406-48a1-db4a-31ca8f384355"
      },
      "execution_count": null,
      "outputs": [
        {
          "output_type": "stream",
          "name": "stdout",
          "text": [
            "type of l1 <class 'list'>\n"
          ]
        }
      ]
    },
    {
      "cell_type": "code",
      "source": [
        "def listvariables():\n",
        "  list=[10,20,30,40]\n",
        "  print(f\"Type of list={type(list)}\")\n",
        "  #for in loop\n",
        "  for value in list:\n",
        "    print(f\"value is :{value},type of each value:{type(value)}\")\n",
        "\n",
        "listvariables()"
      ],
      "metadata": {
        "colab": {
          "base_uri": "https://localhost:8080/"
        },
        "id": "P55T0QMOw6C3",
        "outputId": "b7edcebc-4e39-4453-e2e2-dba65cfbb576"
      },
      "execution_count": null,
      "outputs": [
        {
          "output_type": "stream",
          "name": "stdout",
          "text": [
            "Type of list=<class 'list'>\n",
            "value is :10,type of each value:<class 'int'>\n",
            "value is :20,type of each value:<class 'int'>\n",
            "value is :30,type of each value:<class 'int'>\n",
            "value is :40,type of each value:<class 'int'>\n"
          ]
        }
      ]
    },
    {
      "cell_type": "markdown",
      "source": [
        "**range(start,end,step)**"
      ],
      "metadata": {
        "id": "5ebp1mo524ic"
      }
    },
    {
      "cell_type": "code",
      "source": [
        "list(range(10,60,10)) #this is another way to create a list.\n"
      ],
      "metadata": {
        "colab": {
          "base_uri": "https://localhost:8080/"
        },
        "id": "xHzN24nz2Smb",
        "outputId": "80095979-7067-4166-9c65-1a495125cbc6"
      },
      "execution_count": null,
      "outputs": [
        {
          "output_type": "execute_result",
          "data": {
            "text/plain": [
              "[10, 20, 30, 40, 50]"
            ]
          },
          "metadata": {},
          "execution_count": 35
        }
      ]
    },
    {
      "cell_type": "markdown",
      "source": [
        "*range is a function which gives you an option to create a sequential value*"
      ],
      "metadata": {
        "id": "SIaHJMgl4b4C"
      }
    },
    {
      "cell_type": "code",
      "source": [
        "list(range(5))"
      ],
      "metadata": {
        "colab": {
          "base_uri": "https://localhost:8080/"
        },
        "id": "Oc3qG-075nIN",
        "outputId": "42a3e11e-a8a4-4bf3-81f2-97eadc89011f"
      },
      "execution_count": null,
      "outputs": [
        {
          "output_type": "execute_result",
          "data": {
            "text/plain": [
              "[0, 1, 2, 3, 4]"
            ]
          },
          "metadata": {},
          "execution_count": 36
        }
      ]
    },
    {
      "cell_type": "code",
      "source": [
        "l1=[10,20,30,40,50]"
      ],
      "metadata": {
        "id": "cZzolEmC5tPk"
      },
      "execution_count": null,
      "outputs": []
    },
    {
      "cell_type": "code",
      "source": [
        "for index in range(len(l1)):\n",
        "  print(f\"index is {index},value at index {l1[index]}\")"
      ],
      "metadata": {
        "colab": {
          "base_uri": "https://localhost:8080/"
        },
        "id": "VEU1vPoQ7iKl",
        "outputId": "c5eee182-90c8-49f2-a035-4ee711c35f5f"
      },
      "execution_count": null,
      "outputs": [
        {
          "output_type": "stream",
          "name": "stdout",
          "text": [
            "index is 0,value at index 10\n",
            "index is 1,value at index 20\n",
            "index is 2,value at index 30\n",
            "index is 3,value at index 40\n",
            "index is 4,value at index 50\n"
          ]
        }
      ]
    },
    {
      "cell_type": "code",
      "source": [
        "countries=[\"India\",\"usa\",\"uk\",\"russia\"]\n",
        "for i in countries:\n",
        "  print(f\"Country Name {i}\")"
      ],
      "metadata": {
        "colab": {
          "base_uri": "https://localhost:8080/"
        },
        "id": "Jm0VAzao7z4F",
        "outputId": "69f731e8-63f9-4b75-c50c-34a726d7cb26"
      },
      "execution_count": null,
      "outputs": [
        {
          "output_type": "stream",
          "name": "stdout",
          "text": [
            "Country Name India\n",
            "Country Name usa\n",
            "Country Name uk\n",
            "Country Name russia\n"
          ]
        }
      ]
    },
    {
      "cell_type": "code",
      "source": [
        "def listdemo():\n",
        "  countries=[\"India\",\"usa\",\"uk\",\"russia\"]\n",
        "  for i in countries:\n",
        "    print(f\"Country Name {i}\")\n",
        "  print(f\"----\"*5)\n",
        "  for i in range(len(countries)):\n",
        "    print(f\"Country at {i},Country Name {countries[i]}\")"
      ],
      "metadata": {
        "id": "Jo72NBwq-mDe"
      },
      "execution_count": null,
      "outputs": []
    },
    {
      "cell_type": "code",
      "source": [
        "listdemo()"
      ],
      "metadata": {
        "colab": {
          "base_uri": "https://localhost:8080/"
        },
        "id": "MvfvNR4L_Rw2",
        "outputId": "0d333c0a-f986-490e-e648-0c24f956f672"
      },
      "execution_count": null,
      "outputs": [
        {
          "output_type": "stream",
          "name": "stdout",
          "text": [
            "Country Name India\n",
            "Country Name usa\n",
            "Country Name uk\n",
            "Country Name russia\n",
            "--------------------\n",
            "Country at 0,Country Name India\n",
            "Country at 1,Country Name usa\n",
            "Country at 2,Country Name uk\n",
            "Country at 3,Country Name russia\n"
          ]
        }
      ]
    },
    {
      "cell_type": "markdown",
      "source": [
        "#FOR PYTHON EVERYTHING IS AN OBJECT"
      ],
      "metadata": {
        "id": "phZYKFgpAnqB"
      }
    },
    {
      "cell_type": "markdown",
      "source": [
        "#How to accept value from user"
      ],
      "metadata": {
        "id": "9s_w8oWCDuf4"
      }
    },
    {
      "cell_type": "code",
      "source": [
        "for i in range(3):\n",
        "  name=input(\"Enter your Name: \")\n",
        "  print(f\"Name is :{name}\")"
      ],
      "metadata": {
        "colab": {
          "base_uri": "https://localhost:8080/"
        },
        "id": "7Dz-piJU_UFZ",
        "outputId": "b84012a8-ca47-44a1-833b-bc19aacde1af"
      },
      "execution_count": null,
      "outputs": [
        {
          "output_type": "stream",
          "name": "stdout",
          "text": [
            "Enter your Name: pranjal\n",
            "Name is :pranjal\n",
            "Enter your Name: pratik\n",
            "Name is :pratik\n",
            "Enter your Name: kresha\n",
            "Name is :kresha\n"
          ]
        }
      ]
    },
    {
      "cell_type": "markdown",
      "source": [
        "Whatever memory which is allocated inside python is coming from heap because everything in python is object which means we have assign memory dynamically and whenever memory is assigning dynamically it has to come from heap."
      ],
      "metadata": {
        "id": "9zjB0OrUEcPm"
      }
    },
    {
      "cell_type": "markdown",
      "source": [
        "**OPERATIONS AVAILABLE IN LIST**"
      ],
      "metadata": {
        "id": "VWvRjEKHFMKH"
      }
    },
    {
      "cell_type": "markdown",
      "source": [
        "1)LENGTH(FUNCTION)"
      ],
      "metadata": {
        "id": "aZIMDRT1FsKL"
      }
    },
    {
      "cell_type": "code",
      "source": [
        "l1=list(range(10,100,10))\n",
        "print(l1)"
      ],
      "metadata": {
        "colab": {
          "base_uri": "https://localhost:8080/"
        },
        "id": "c3Eb-6r6EJP0",
        "outputId": "0d9c10fa-213b-4875-81c6-de7df0057ea8"
      },
      "execution_count": null,
      "outputs": [
        {
          "output_type": "stream",
          "name": "stdout",
          "text": [
            "[10, 20, 30, 40, 50, 60, 70, 80, 90]\n"
          ]
        }
      ]
    },
    {
      "cell_type": "code",
      "source": [
        "print(f\"Number of Values: {len(l1)}\")\n"
      ],
      "metadata": {
        "colab": {
          "base_uri": "https://localhost:8080/"
        },
        "id": "EUbqSljSF4hq",
        "outputId": "7daff3b9-f0ac-4954-e918-d89a736cf200"
      },
      "execution_count": null,
      "outputs": [
        {
          "output_type": "stream",
          "name": "stdout",
          "text": [
            "Number of Values: 9\n"
          ]
        }
      ]
    },
    {
      "cell_type": "markdown",
      "source": [
        "**WHENEVER YOU SEE FIRST ARGUMENT AS A \"SELF\" CALL IT AS A METHOD NOT A FUNCTION**"
      ],
      "metadata": {
        "id": "cbb87rl6Gb6S"
      }
    },
    {
      "cell_type": "markdown",
      "source": [
        "#APPEND(METHOD)"
      ],
      "metadata": {
        "id": "HcXA9iiZHeN1"
      }
    },
    {
      "cell_type": "markdown",
      "source": [
        "**append method will append/add element at the end of the list dynamically**"
      ],
      "metadata": {
        "id": "0rJQtDMqH9Zu"
      }
    },
    {
      "cell_type": "code",
      "source": [
        "print(f\"{l1}\")  #before appending an element\n",
        "l1.append(110)\n",
        "print(f\"{l1}\")  #after appending an element"
      ],
      "metadata": {
        "colab": {
          "base_uri": "https://localhost:8080/"
        },
        "id": "7qvr4z6MGxVu",
        "outputId": "a4bb8086-0539-4e05-fcd5-783690190308"
      },
      "execution_count": null,
      "outputs": [
        {
          "output_type": "stream",
          "name": "stdout",
          "text": [
            "[10, 20, 30, 40, 50, 60, 70, 80, 90]\n",
            "[10, 20, 30, 40, 50, 60, 70, 80, 90, 110]\n"
          ]
        }
      ]
    },
    {
      "cell_type": "markdown",
      "source": [
        "#POP(Method)"
      ],
      "metadata": {
        "id": "Z9QYdiPpIxaD"
      }
    },
    {
      "cell_type": "markdown",
      "source": [
        "**It is used to remove the element from \"END\" of the List**"
      ],
      "metadata": {
        "id": "aeYa99r1I1_x"
      }
    },
    {
      "cell_type": "code",
      "source": [
        "print(f\"{l1}\") #before pop\n",
        "l1.pop()\n",
        "print(f\"{l1}\") #after pop"
      ],
      "metadata": {
        "colab": {
          "base_uri": "https://localhost:8080/"
        },
        "id": "O7fXsh1THwFJ",
        "outputId": "d18b3275-6a91-4155-e6d5-7ba151bb6821"
      },
      "execution_count": null,
      "outputs": [
        {
          "output_type": "stream",
          "name": "stdout",
          "text": [
            "[10, 20, 30, 40, 50, 60, 70, 80, 90, 110]\n",
            "[10, 20, 30, 40, 50, 60, 70, 80, 90]\n"
          ]
        }
      ]
    },
    {
      "cell_type": "markdown",
      "source": [
        "#COLLECTIONS ARE BY DEFAULT NOT SEQUENTIAL"
      ],
      "metadata": {
        "id": "bENziusGLFz7"
      }
    },
    {
      "cell_type": "markdown",
      "source": [
        "#THERE IS NO CONSTANT TIME TO REACH OBJECT BY USING MULTIPLE ITERATION OR JUMP THAT IS WHY PYTHONS COLLECTIONS ARE REALLY SLOW.(SINCE THERE ARE DYANMICALLY PLACED IN HEAP)"
      ],
      "metadata": {
        "id": "je1YHQBNNYEd"
      }
    },
    {
      "cell_type": "markdown",
      "source": [
        "#INSERT(METHOD)\n",
        "insert(indexNo,value)"
      ],
      "metadata": {
        "id": "JwzgLTQjOhTd"
      }
    },
    {
      "cell_type": "markdown",
      "source": [
        "**it is used to add values in between/anywhere the list**"
      ],
      "metadata": {
        "id": "pJXzQ87xOkQ7"
      }
    },
    {
      "cell_type": "code",
      "source": [
        "print(f\"{l1}\") #before insert\n",
        "l1.insert(5,200)\n",
        "print(f\"{l1}\") #after insert"
      ],
      "metadata": {
        "colab": {
          "base_uri": "https://localhost:8080/"
        },
        "id": "DnBA-ffAJNw9",
        "outputId": "d17e6704-3627-443d-c53a-c2a73a9ccd4d"
      },
      "execution_count": null,
      "outputs": [
        {
          "output_type": "stream",
          "name": "stdout",
          "text": [
            "[10, 20, 30, 40, 50, 60, 70, 80, 90]\n",
            "[10, 20, 30, 40, 50, 200, 60, 70, 80, 90]\n"
          ]
        }
      ]
    },
    {
      "cell_type": "markdown",
      "source": [
        "Whenever you are adding value at the position which is not there it will append that value at the end of the list."
      ],
      "metadata": {
        "id": "bIGVOCJ9Pqkm"
      }
    },
    {
      "cell_type": "code",
      "source": [
        "l1.insert(11,100)\n",
        "print(l1)"
      ],
      "metadata": {
        "colab": {
          "base_uri": "https://localhost:8080/"
        },
        "id": "_alPVMlPPA3s",
        "outputId": "f62cb142-19c9-43d0-d404-e11314c073d8"
      },
      "execution_count": null,
      "outputs": [
        {
          "output_type": "stream",
          "name": "stdout",
          "text": [
            "[10, 20, 30, 40, 50, 200, 60, 70, 80, 90, 100]\n"
          ]
        }
      ]
    },
    {
      "cell_type": "markdown",
      "source": [
        "#POP(INDEX)\n",
        "It is used to remove number from in between the list."
      ],
      "metadata": {
        "id": "gNmxCPqlQiu7"
      }
    },
    {
      "cell_type": "code",
      "source": [
        "l1.pop(5) #removes element at specific index\n",
        "print(l1)"
      ],
      "metadata": {
        "colab": {
          "base_uri": "https://localhost:8080/"
        },
        "id": "f0Vzht-5QuJu",
        "outputId": "07c25a99-2eff-4d24-8652-a47587ed3b3c"
      },
      "execution_count": null,
      "outputs": [
        {
          "output_type": "stream",
          "name": "stdout",
          "text": [
            "[10, 20, 30, 40, 50, 60, 70, 80, 90, 100]\n"
          ]
        }
      ]
    },
    {
      "cell_type": "code",
      "source": [
        "l1.pop()  #removes element from end of the list\n",
        "print(f\"{l1}\")"
      ],
      "metadata": {
        "colab": {
          "base_uri": "https://localhost:8080/"
        },
        "id": "ZY5acYyHQ9wc",
        "outputId": "f3e137df-5d86-4623-bcf8-d0e013b08b3d"
      },
      "execution_count": null,
      "outputs": [
        {
          "output_type": "stream",
          "name": "stdout",
          "text": [
            "[10, 20, 30, 40, 50, 60, 70, 80, 90]\n"
          ]
        }
      ]
    },
    {
      "cell_type": "markdown",
      "source": [
        "**SUPPOSE IF WE GIVE THE INDEX IN THE POP WHICH IS NOT PRESENT IN THE LIST THEN IT WILL GIVE AN EXCEPTION(POP INDEX OUT OF RANGE)**"
      ],
      "metadata": {
        "id": "BOyJ2HqkRQu6"
      }
    },
    {
      "cell_type": "markdown",
      "source": [
        "#COUNT\n",
        "GIVES YOU THE COUNT OF NUMBER OF OCCURANCE IN THE LIST"
      ],
      "metadata": {
        "id": "SJWnfqESSjS7"
      }
    },
    {
      "cell_type": "code",
      "source": [
        "count=l1.count(10)\n",
        "print(f\"count of 10: {count}\")"
      ],
      "metadata": {
        "colab": {
          "base_uri": "https://localhost:8080/"
        },
        "id": "99o6R8NZRGY1",
        "outputId": "a4d655e5-3fa0-48c9-b2ba-fdb7d67cb29b"
      },
      "execution_count": null,
      "outputs": [
        {
          "output_type": "stream",
          "name": "stdout",
          "text": [
            "count of 10: 1\n"
          ]
        }
      ]
    },
    {
      "cell_type": "markdown",
      "source": [
        "#INDEX\n",
        "It will give the INDEX of that specified value."
      ],
      "metadata": {
        "id": "1DAhjd60TiZ2"
      }
    },
    {
      "cell_type": "code",
      "source": [
        "print(f\"Index of 50 is {l1.index(50)}\")"
      ],
      "metadata": {
        "colab": {
          "base_uri": "https://localhost:8080/"
        },
        "id": "BzQSy-fiTD_W",
        "outputId": "0a34cde5-d5d2-4198-9257-de85a4bc473a"
      },
      "execution_count": null,
      "outputs": [
        {
          "output_type": "stream",
          "name": "stdout",
          "text": [
            "Index of 50 is 4\n"
          ]
        }
      ]
    },
    {
      "cell_type": "code",
      "source": [
        "#50 is the value that we are searching for\n",
        "#5 : search after 5 th index position\n",
        "l2=[10,20,30,40,50,60,10,20,30,40,50,60,10,20,30,40,50,60]\n",
        "new=l2.index(50,5)\n",
        "print(f\"Index of 50 after 5th position {new}\")\n"
      ],
      "metadata": {
        "colab": {
          "base_uri": "https://localhost:8080/"
        },
        "id": "dxY7RlrMU79W",
        "outputId": "2a864e12-a1b5-46c1-f610-e4ad3aac3209"
      },
      "execution_count": null,
      "outputs": [
        {
          "output_type": "stream",
          "name": "stdout",
          "text": [
            "Index of 50 after 5th position 10\n"
          ]
        }
      ]
    },
    {
      "cell_type": "markdown",
      "source": [
        "If the index is not present there it will throw an Error/Exception\n",
        "\n",
        "---\n",
        "\n"
      ],
      "metadata": {
        "id": "BNQtoR1_Vaa6"
      }
    },
    {
      "cell_type": "markdown",
      "source": [
        "#SORT\n",
        "IT WILL SORT THE VALUE BY DEFAULT IN ASCENDING ORDER\n"
      ],
      "metadata": {
        "id": "Xj8JsHHRjhq4"
      }
    },
    {
      "cell_type": "markdown",
      "source": [
        "Sort function by default returns nothing so when we print sort directly it gives value NONE.i.e print(l2.sort)"
      ],
      "metadata": {
        "id": "EKiJI5hKkbwE"
      }
    },
    {
      "cell_type": "code",
      "source": [
        "l3=[20,10,50,40,60]\n",
        "l3.sort()\n",
        "print(l3) #It will give sorted values here."
      ],
      "metadata": {
        "id": "l5XxaQOKVYVk",
        "colab": {
          "base_uri": "https://localhost:8080/"
        },
        "outputId": "52a9da60-b760-48df-8918-0830284d9150"
      },
      "execution_count": null,
      "outputs": [
        {
          "output_type": "stream",
          "name": "stdout",
          "text": [
            "[10, 20, 40, 50, 60]\n"
          ]
        }
      ]
    },
    {
      "cell_type": "markdown",
      "source": [
        "#REVERSE SORT(DESC)\n",
        "IT WILL SORT THE VALUE IN THE DESCENDING ORDER"
      ],
      "metadata": {
        "id": "zrRms6L0kqg-"
      }
    },
    {
      "cell_type": "code",
      "source": [
        "l3.sort(reverse=True)\n",
        "print(f\"{l3}\")"
      ],
      "metadata": {
        "colab": {
          "base_uri": "https://localhost:8080/"
        },
        "id": "DEWum50vjvv0",
        "outputId": "17d19114-b8f9-4813-8575-eddc704b4f45"
      },
      "execution_count": null,
      "outputs": [
        {
          "output_type": "stream",
          "name": "stdout",
          "text": [
            "[60, 50, 40, 20, 10]\n"
          ]
        }
      ]
    },
    {
      "cell_type": "markdown",
      "source": [
        "#COPY\n",
        "TO PERFORM COPY YOU HAVE TO USE copy()"
      ],
      "metadata": {
        "id": "Y8gw_bCSoHt8"
      }
    },
    {
      "cell_type": "code",
      "source": [
        "l4=l3.copy() #this will create a copy of l3 and store in l4\n",
        "print(f\"{l4}\")"
      ],
      "metadata": {
        "colab": {
          "base_uri": "https://localhost:8080/"
        },
        "id": "Mlt98naAk5gp",
        "outputId": "a30338c8-49c0-40ab-a145-b8f08dea8012"
      },
      "execution_count": null,
      "outputs": [
        {
          "output_type": "stream",
          "name": "stdout",
          "text": [
            "[60, 50, 40, 20, 10]\n"
          ]
        }
      ]
    },
    {
      "cell_type": "markdown",
      "source": [
        "#REMOVE()\n",
        "REMOVE IS USED TO DELETE ANY VALUE FROM LIST"
      ],
      "metadata": {
        "id": "ysItDCvhpefx"
      }
    },
    {
      "cell_type": "markdown",
      "source": [
        "REMOVE TAKES VALUE AS AN ARGUMENT WHICH WE WANT TO DELETE."
      ],
      "metadata": {
        "id": "qQJUcygPpnXo"
      }
    },
    {
      "cell_type": "markdown",
      "source": [
        "POP USES DELETES THE VALUE FROM LIST USING INDEX REMOVES DIRECTLY TAKES VALUE TO DELETE THAT IS THE DIFFERENCE."
      ],
      "metadata": {
        "id": "VbnP4Ij-pvPA"
      }
    },
    {
      "cell_type": "code",
      "source": [
        "countries1=[\"india\",\"usa\",\"uk\",\"china\",\"japan\"]\n",
        "countries1.remove(\"china\")\n",
        "print(f\"{countries1}\")"
      ],
      "metadata": {
        "colab": {
          "base_uri": "https://localhost:8080/"
        },
        "id": "acs9G5vxoZMu",
        "outputId": "2efd68ab-8a8e-489a-a9b3-70820fb308b3"
      },
      "execution_count": null,
      "outputs": [
        {
          "output_type": "stream",
          "name": "stdout",
          "text": [
            "['india', 'usa', 'uk', 'japan']\n"
          ]
        }
      ]
    },
    {
      "cell_type": "markdown",
      "source": [
        "#REMOVE ALSO CARES IF THE VALUE IS PRESENT THERE IN THE LIST OR NOT.IF THE VALUES IS NOT PRESENT THERE IN THE LIST IT WILL THROW AN ERROR"
      ],
      "metadata": {
        "id": "HnHEDWsQrGSi"
      }
    },
    {
      "cell_type": "code",
      "source": [
        "#HOW TO FIX THE ERROR THAT WE WILL GET\n",
        "if countries1.count(\"china\")>0:\n",
        "  countries1.remove(\"china\")\n",
        "print(f\"{countries1}\")\n"
      ],
      "metadata": {
        "colab": {
          "base_uri": "https://localhost:8080/"
        },
        "id": "khrHpD1XqZPQ",
        "outputId": "a9582d69-868f-4a91-b35c-3e6177d3e199"
      },
      "execution_count": null,
      "outputs": [
        {
          "output_type": "stream",
          "name": "stdout",
          "text": [
            "['india', 'usa', 'uk', 'japan']\n"
          ]
        }
      ]
    },
    {
      "cell_type": "markdown",
      "source": [
        "**IF THERE ARE DUPLICATE VALUES IN THE LIST IT WILL \"REMOVE ONLY THE FIRST OCCURANCE\"**"
      ],
      "metadata": {
        "id": "1hRkZV9Yr3__"
      }
    },
    {
      "cell_type": "markdown",
      "source": [
        "TO REMOVE ALL THE OCCURANCES FROM THE LIST WE USE FOR LOOP"
      ],
      "metadata": {
        "id": "dGW20F8lscj2"
      }
    },
    {
      "cell_type": "code",
      "source": [
        "list1=[10,20,30,40,50,10,20,30,40,50,10,20,30,40,50]\n",
        "for i in range(list1.count(50)):\n",
        "  list1.remove(50)\n",
        "print(f\"{list1}\")"
      ],
      "metadata": {
        "colab": {
          "base_uri": "https://localhost:8080/"
        },
        "id": "4Rq1-6-zrBvu",
        "outputId": "f226527a-d8ca-484b-da30-6ca788e9be9d"
      },
      "execution_count": null,
      "outputs": [
        {
          "output_type": "stream",
          "name": "stdout",
          "text": [
            "[10, 20, 30, 40, 10, 20, 30, 40, 10, 20, 30, 40]\n"
          ]
        }
      ]
    },
    {
      "cell_type": "markdown",
      "source": [
        "#CLEAR()=TO EMPTY THE LIST\n",
        "YOU CAN ALSO USE POP IN FOR LOOP"
      ],
      "metadata": {
        "id": "sXe4n6mItiNl"
      }
    },
    {
      "cell_type": "code",
      "source": [
        "#we will first use pop to empty the list\n",
        "for i in range(len(list1)):\n",
        "  list1.pop()\n",
        "print(list1)"
      ],
      "metadata": {
        "colab": {
          "base_uri": "https://localhost:8080/"
        },
        "id": "mYbt8tratHZR",
        "outputId": "520a99a0-f9d0-4e57-de3d-1b906d0ba6b8"
      },
      "execution_count": null,
      "outputs": [
        {
          "output_type": "stream",
          "name": "stdout",
          "text": [
            "[]\n"
          ]
        }
      ]
    },
    {
      "cell_type": "code",
      "source": [
        "#By using clear we will empty the list\n",
        "list1=[10,20,30,40,50,10,20,30,40,50,10,20,30,40,50]\n",
        "list1.clear()\n",
        "print(f\"{list1}\")"
      ],
      "metadata": {
        "colab": {
          "base_uri": "https://localhost:8080/"
        },
        "id": "dYWRZxIvt7YJ",
        "outputId": "2640c1f9-9c13-4edc-b338-6c860aae6034"
      },
      "execution_count": null,
      "outputs": [
        {
          "output_type": "stream",
          "name": "stdout",
          "text": [
            "[]\n"
          ]
        }
      ]
    },
    {
      "cell_type": "markdown",
      "source": [
        "#SLICING"
      ],
      "metadata": {
        "id": "0FjCRAeWn3IN"
      }
    },
    {
      "cell_type": "code",
      "source": [
        "l1=list(range(10,110,10))\n",
        "print(f\"{l1}\")"
      ],
      "metadata": {
        "colab": {
          "base_uri": "https://localhost:8080/"
        },
        "id": "aPh-fBlQuJhZ",
        "outputId": "880f2cb3-c663-4601-a0c0-0c864505b57b"
      },
      "execution_count": null,
      "outputs": [
        {
          "output_type": "stream",
          "name": "stdout",
          "text": [
            "[10, 20, 30, 40, 50, 60, 70, 80, 90, 100]\n"
          ]
        }
      ]
    },
    {
      "cell_type": "code",
      "source": [
        "for i in range(len(l1)):\n",
        "  print(f\"value at {i} ={l1[i]}\")"
      ],
      "metadata": {
        "colab": {
          "base_uri": "https://localhost:8080/"
        },
        "id": "thCm4gRnoC5E",
        "outputId": "15c5695b-2497-420a-e9a9-db5fc3d2a48b"
      },
      "execution_count": null,
      "outputs": [
        {
          "output_type": "stream",
          "name": "stdout",
          "text": [
            "value at 0 =10\n",
            "value at 1 =20\n",
            "value at 2 =30\n",
            "value at 3 =40\n",
            "value at 4 =50\n",
            "value at 5 =60\n",
            "value at 6 =70\n",
            "value at 7 =80\n",
            "value at 8 =90\n",
            "value at 9 =100\n"
          ]
        }
      ]
    },
    {
      "cell_type": "code",
      "source": [
        "print(l1)"
      ],
      "metadata": {
        "colab": {
          "base_uri": "https://localhost:8080/"
        },
        "id": "XtloGs2goT1T",
        "outputId": "f8887fda-2ddb-4eee-846f-ccb4453444bf"
      },
      "execution_count": null,
      "outputs": [
        {
          "output_type": "stream",
          "name": "stdout",
          "text": [
            "[10, 20, 30, 40, 50, 60, 70, 80, 90, 100]\n"
          ]
        }
      ]
    },
    {
      "cell_type": "code",
      "source": [
        "#get the value from 1st to 4th position\n",
        "print(f\"value from 1st to 4th position is: {l1[1:5]}\")"
      ],
      "metadata": {
        "colab": {
          "base_uri": "https://localhost:8080/"
        },
        "id": "GgZ-qgHR1rlk",
        "outputId": "92cc68b2-8d71-4149-a1ab-27fd6be94982"
      },
      "execution_count": null,
      "outputs": [
        {
          "output_type": "stream",
          "name": "stdout",
          "text": [
            "value from 1st to 4th position is: [20, 30, 40, 50]\n"
          ]
        }
      ]
    },
    {
      "cell_type": "code",
      "source": [
        " #get the value from 0th to 4th position\n",
        "print(f\"value from 0th to 4th position is: {l1[0:5]}\")"
      ],
      "metadata": {
        "colab": {
          "base_uri": "https://localhost:8080/"
        },
        "id": "E_YoEHcO1-3W",
        "outputId": "3234a4a8-896e-4d71-9a8a-1905cc36992c"
      },
      "execution_count": null,
      "outputs": [
        {
          "output_type": "stream",
          "name": "stdout",
          "text": [
            "value from 0th to 4th position is: [10, 20, 30, 40, 50]\n"
          ]
        }
      ]
    },
    {
      "cell_type": "code",
      "source": [
        " #get the value from 0th to 4th position(Another way)\n",
        "print(f\"value from 0th to 4th position is: {l1[:5]}\")"
      ],
      "metadata": {
        "colab": {
          "base_uri": "https://localhost:8080/"
        },
        "id": "GmiBFBAp2Qpl",
        "outputId": "aa16b1d5-8c44-4e4c-dc83-d97dab721cbe"
      },
      "execution_count": null,
      "outputs": [
        {
          "output_type": "stream",
          "name": "stdout",
          "text": [
            "value from 0th to 4th position is: [10, 20, 30, 40, 50]\n"
          ]
        }
      ]
    },
    {
      "cell_type": "code",
      "source": [
        " #get the value from 5th to 9th position\n",
        "print(f\"value from 5th to 9th position is: {l1[5:10]}\")"
      ],
      "metadata": {
        "colab": {
          "base_uri": "https://localhost:8080/"
        },
        "id": "pvRay-wo2Xpl",
        "outputId": "48c1c2f7-1f75-4569-b9c8-41494f1f0d64"
      },
      "execution_count": null,
      "outputs": [
        {
          "output_type": "stream",
          "name": "stdout",
          "text": [
            "value from 5th to 9th position is: [60, 70, 80, 90, 100]\n"
          ]
        }
      ]
    },
    {
      "cell_type": "code",
      "source": [
        "#to get all the values in a slicing way\n",
        "print(f\"values from 0 to end :{l1[:]}\")"
      ],
      "metadata": {
        "colab": {
          "base_uri": "https://localhost:8080/"
        },
        "id": "xyK9vg8U20R_",
        "outputId": "ebc1446f-3f2a-4841-b703-be8f3b24b8cb"
      },
      "execution_count": null,
      "outputs": [
        {
          "output_type": "stream",
          "name": "stdout",
          "text": [
            "values from 0 to end :[10, 20, 30, 40, 50, 60, 70, 80, 90, 100]\n"
          ]
        }
      ]
    },
    {
      "cell_type": "code",
      "source": [
        "print(f\"values from -6 to -9: {l1[-6:-9]}\") #we are getting nothing here bcz -6 here is greater than -9."
      ],
      "metadata": {
        "colab": {
          "base_uri": "https://localhost:8080/"
        },
        "id": "GB2OQn6x69X6",
        "outputId": "1cf1bde8-055e-470d-db3b-c2477ed18468"
      },
      "execution_count": null,
      "outputs": [
        {
          "output_type": "stream",
          "name": "stdout",
          "text": [
            "values from -6 to -9: []\n"
          ]
        }
      ]
    },
    {
      "cell_type": "code",
      "source": [
        "print(f\"values from -6 to -9: {l1[-9:-6]}\")"
      ],
      "metadata": {
        "colab": {
          "base_uri": "https://localhost:8080/"
        },
        "id": "VK-EZt9B-nbL",
        "outputId": "38e9f92d-378a-4ecb-823b-db49b83bd936"
      },
      "execution_count": null,
      "outputs": [
        {
          "output_type": "stream",
          "name": "stdout",
          "text": [
            "values from -6 to -9: [20, 30, 40]\n"
          ]
        }
      ]
    },
    {
      "cell_type": "code",
      "source": [
        "print(f\"values from 0 to 9: {l1[:-1]}\")"
      ],
      "metadata": {
        "colab": {
          "base_uri": "https://localhost:8080/"
        },
        "id": "x7ZtzFmU_iaN",
        "outputId": "2fc1d6f2-88e5-4ec3-b143-8ed0003b09e4"
      },
      "execution_count": null,
      "outputs": [
        {
          "output_type": "stream",
          "name": "stdout",
          "text": [
            "values from 0 to 9: [10, 20, 30, 40, 50, 60, 70, 80, 90]\n"
          ]
        }
      ]
    },
    {
      "cell_type": "code",
      "source": [
        "print(f\"Get all the values: {l1[::1]}\") #here 1 is step function that we are using here"
      ],
      "metadata": {
        "colab": {
          "base_uri": "https://localhost:8080/"
        },
        "id": "tp15agKPACZ9",
        "outputId": "23547d67-0384-4aa0-8a03-937d6d74a039"
      },
      "execution_count": null,
      "outputs": [
        {
          "output_type": "stream",
          "name": "stdout",
          "text": [
            "Get all the values: [10, 20, 30, 40, 50, 60, 70, 80, 90, 100]\n"
          ]
        }
      ]
    },
    {
      "cell_type": "code",
      "source": [
        "#get all the values in even position\n",
        "print(f\"All the values at even position: {l1[::2]}\") #2 is step"
      ],
      "metadata": {
        "colab": {
          "base_uri": "https://localhost:8080/"
        },
        "id": "eihzHPetA1Yp",
        "outputId": "244fd240-1bf4-48ea-857a-32b3087b9f05"
      },
      "execution_count": null,
      "outputs": [
        {
          "output_type": "stream",
          "name": "stdout",
          "text": [
            "All the values at even position: [10, 30, 50, 70, 90]\n"
          ]
        }
      ]
    },
    {
      "cell_type": "code",
      "source": [
        "#get all the values at odd position\n",
        "print(f\"All the values at odd position: {l1[1::2]}\") #2 is step"
      ],
      "metadata": {
        "colab": {
          "base_uri": "https://localhost:8080/"
        },
        "id": "8n-L3t9aBHth",
        "outputId": "f2c46bd4-3526-40a0-8ecc-af3b622d19ef"
      },
      "execution_count": null,
      "outputs": [
        {
          "output_type": "stream",
          "name": "stdout",
          "text": [
            "All the values at odd position: [20, 40, 60, 80, 100]\n"
          ]
        }
      ]
    },
    {
      "cell_type": "code",
      "source": [
        "#get the values in reverse direction\n",
        "print(f\"Values in reverse direction: {l1[::-1]}\")"
      ],
      "metadata": {
        "colab": {
          "base_uri": "https://localhost:8080/"
        },
        "id": "Kgp1gNFeBS-b",
        "outputId": "aa5e0a48-eb6a-4163-ab27-855daa4ee608"
      },
      "execution_count": null,
      "outputs": [
        {
          "output_type": "stream",
          "name": "stdout",
          "text": [
            "Values in reverse direction: [100, 90, 80, 70, 60, 50, 40, 30, 20, 10]\n"
          ]
        }
      ]
    },
    {
      "cell_type": "code",
      "source": [
        "print(f\"-*-*-\"*20)"
      ],
      "metadata": {
        "colab": {
          "base_uri": "https://localhost:8080/"
        },
        "id": "D-ualpmnDUyU",
        "outputId": "d0e87ad6-49d5-4c1d-e6e6-2527ac6d21a8"
      },
      "execution_count": null,
      "outputs": [
        {
          "output_type": "stream",
          "name": "stdout",
          "text": [
            "-*-*--*-*--*-*--*-*--*-*--*-*--*-*--*-*--*-*--*-*--*-*--*-*--*-*--*-*--*-*--*-*--*-*--*-*--*-*--*-*-\n"
          ]
        }
      ]
    },
    {
      "cell_type": "markdown",
      "source": [
        "#TUPLE"
      ],
      "metadata": {
        "id": "ySRGMoiMDeqj"
      }
    },
    {
      "cell_type": "markdown",
      "source": [
        "**LISTS ARE MUTABLE TUPLES ARE IMMUTABLE**"
      ],
      "metadata": {
        "id": "E49mTBQBEF0G"
      }
    },
    {
      "cell_type": "markdown",
      "source": [
        "**IN GENERAL IMMUTABLE OBJECTS ARE FASTER THAN MUTABLE(BCZ IMMUTABLE KNOWS HOW MUCH MEMORY IT IS GONNA NEED,VALUES ARE PREDEFINED NOT GOING TO CHANGE**"
      ],
      "metadata": {
        "id": "tujJF-IMEMbQ"
      }
    },
    {
      "cell_type": "markdown",
      "source": [
        "**TUPLE ALLOWS YOU TO HAVE DUPLICATE VALUES**"
      ],
      "metadata": {
        "id": "ShIpbwRSZh3l"
      }
    },
    {
      "cell_type": "markdown",
      "source": [
        "**IMMUTABLE IS ALWAYS PREFERED OVER MUTABLE**"
      ],
      "metadata": {
        "id": "oyNuhYHgEycv"
      }
    },
    {
      "cell_type": "code",
      "source": [
        "number=(10,20,30,40)\n",
        "print(f\"values are: {number},type={type(number)}\")"
      ],
      "metadata": {
        "colab": {
          "base_uri": "https://localhost:8080/"
        },
        "id": "rnftlJQRDav-",
        "outputId": "d9be3a4d-a243-43f3-e302-8c1822b54d53"
      },
      "execution_count": null,
      "outputs": [
        {
          "output_type": "stream",
          "name": "stdout",
          "text": [
            "values are: (10, 20, 30, 40),type=<class 'tuple'>\n"
          ]
        }
      ]
    },
    {
      "cell_type": "code",
      "source": [
        "#Create a empty tuple\n",
        "tuple1=tuple()\n",
        "print(f\"tuple val is: {tuple1},type={type(tuple1)}\")"
      ],
      "metadata": {
        "colab": {
          "base_uri": "https://localhost:8080/"
        },
        "id": "GigjkSWcEELK",
        "outputId": "019a944e-b824-4df4-ff26-cf7f8f87a422"
      },
      "execution_count": null,
      "outputs": [
        {
          "output_type": "stream",
          "name": "stdout",
          "text": [
            "tuple val is: (),type=<class 'tuple'>\n"
          ]
        }
      ]
    },
    {
      "cell_type": "code",
      "source": [
        "#Another way to create an empty tuple\n",
        "tuple2=()\n",
        "print(f\"tuple val is: {tuple2},type={type(tuple2)}\")"
      ],
      "metadata": {
        "colab": {
          "base_uri": "https://localhost:8080/"
        },
        "id": "IdkiAr1xGhWO",
        "outputId": "3890bb73-b4b6-4d43-b08d-9cf74b957fdf"
      },
      "execution_count": null,
      "outputs": [
        {
          "output_type": "stream",
          "name": "stdout",
          "text": [
            "tuple val is: (),type=<class 'tuple'>\n"
          ]
        }
      ]
    },
    {
      "cell_type": "markdown",
      "source": [
        "**CREATE A TUPLE WITH SINGLE ELEMENT**\n"
      ],
      "metadata": {
        "id": "KBOTLXmwG345"
      }
    },
    {
      "cell_type": "markdown",
      "source": [
        "*MUST GIVE \",\" AFTER THE ONLY ELEMENT,otherwise it will not give you tuple but element with respective type*"
      ],
      "metadata": {
        "id": "FWOA-mC3HnNF"
      }
    },
    {
      "cell_type": "code",
      "source": [
        "samTup=(30)\n",
        "print(f\"val of tuple:{samTup},type={type(samTup)}\")"
      ],
      "metadata": {
        "colab": {
          "base_uri": "https://localhost:8080/"
        },
        "id": "ibG9CqSXH0lo",
        "outputId": "0b5bcdae-4548-482e-ec9c-dad82696553b"
      },
      "execution_count": null,
      "outputs": [
        {
          "output_type": "stream",
          "name": "stdout",
          "text": [
            "val of tuple:30,type=<class 'int'>\n"
          ]
        }
      ]
    },
    {
      "cell_type": "code",
      "source": [
        "#way to create a single value tuple\n",
        "singleElementTuple=(30,)\n",
        "print(f\"val of tuple:{singleElementTuple},type={type(singleElementTuple)}\")"
      ],
      "metadata": {
        "colab": {
          "base_uri": "https://localhost:8080/"
        },
        "id": "R0kJRfRAG2mX",
        "outputId": "397c41b2-e9a0-4020-d73d-f659d3cbafdd"
      },
      "execution_count": null,
      "outputs": [
        {
          "output_type": "stream",
          "name": "stdout",
          "text": [
            "val of tuple:(30,),type=<class 'tuple'>\n"
          ]
        }
      ]
    },
    {
      "cell_type": "markdown",
      "source": [
        "#IMMUTABLE COLLECTION IS NOTHING BUT TUPLE"
      ],
      "metadata": {
        "id": "02TBc93mILHT"
      }
    },
    {
      "cell_type": "markdown",
      "source": [
        "**get the addition of all the variable no of arguments**"
      ],
      "metadata": {
        "id": "IxvMkstrVrTo"
      }
    },
    {
      "cell_type": "code",
      "source": [
        "\n",
        "def add(*args):\n",
        "  print(f\"args={args},type={type(args)}\")\n",
        "  result=0\n",
        "  for value in args:\n",
        "    result += value\n",
        "  print(f\"result={result}\")\n",
        "\n",
        "add(10,20)\n",
        "add(10,20,30,40)\n",
        "add(10,20,49,59,40)"
      ],
      "metadata": {
        "colab": {
          "base_uri": "https://localhost:8080/"
        },
        "id": "nZecV73jHjPy",
        "outputId": "59a6e76b-e2f1-4f70-be05-589e055b64e1"
      },
      "execution_count": null,
      "outputs": [
        {
          "output_type": "stream",
          "name": "stdout",
          "text": [
            "args=(10, 20),type=<class 'tuple'>\n",
            "result=30\n",
            "args=(10, 20, 30, 40),type=<class 'tuple'>\n",
            "result=100\n",
            "args=(10, 20, 49, 59, 40),type=<class 'tuple'>\n",
            "result=178\n"
          ]
        }
      ]
    },
    {
      "cell_type": "markdown",
      "source": [
        "**use of id should be avoided in real life program it should be use for understanding only . It does not represent the true represenatation of memory address**"
      ],
      "metadata": {
        "id": "CpH9dNg-YDU1"
      }
    },
    {
      "cell_type": "markdown",
      "source": [
        "#SET"
      ],
      "metadata": {
        "id": "y9a9juxAYaXQ"
      }
    },
    {
      "cell_type": "markdown",
      "source": [
        "**SET DOES NOT ALLOW YOU TO HAVE DUPLICATE VALUES**"
      ],
      "metadata": {
        "id": "5x83u_OgZRDJ"
      }
    },
    {
      "cell_type": "markdown",
      "source": [
        "**SET ALLOWS ONLY UNIQUE VALUES**"
      ],
      "metadata": {
        "id": "Qkp2OJSsZZCc"
      }
    },
    {
      "cell_type": "markdown",
      "source": [
        "**SET USES HASHING FUNCTION IN THE BACKGROUD TO IDENTIFY DUPLICATE VALUES AND IT BECAUSE OF HASING IT DOES NOT FOLLOW INSERTION ORDER.**"
      ],
      "metadata": {
        "id": "D0Gl-x9daF2y"
      }
    },
    {
      "cell_type": "code",
      "source": [
        "set={10,20,30,40}\n",
        "print(f\"values of set:{set}\")"
      ],
      "metadata": {
        "colab": {
          "base_uri": "https://localhost:8080/"
        },
        "id": "FhP7GEy7WguN",
        "outputId": "1fd530f3-0c9f-4c10-d8d4-b5964c15f325"
      },
      "execution_count": null,
      "outputs": [
        {
          "output_type": "stream",
          "name": "stdout",
          "text": [
            "values of set:{40, 10, 20, 30}\n"
          ]
        }
      ]
    },
    {
      "cell_type": "code",
      "source": [
        "#set with duplicate values\n",
        "set1={10,20,30,40,10,20,30,40}\n",
        "#it will remove all the duplicate value and give only unique values\n",
        "print(f\"values of set:{set1}\")"
      ],
      "metadata": {
        "colab": {
          "base_uri": "https://localhost:8080/"
        },
        "id": "ZAJ1ZPN-aiRG",
        "outputId": "b5ece20b-38ff-478d-eeff-750fac5e4bd3"
      },
      "execution_count": null,
      "outputs": [
        {
          "output_type": "stream",
          "name": "stdout",
          "text": [
            "values of set:{40, 10, 20, 30}\n"
          ]
        }
      ]
    },
    {
      "cell_type": "markdown",
      "source": [
        "#Create an Empty Set"
      ],
      "metadata": {
        "id": "pFjimYICbohi"
      }
    },
    {
      "cell_type": "code",
      "source": [
        "empty_dict = {}\n",
        "print(type(empty_dict))  # Output: <class 'dict'>\n",
        "\n",
        "empty_set = set()\n",
        "print(type(empty_set))   # Output: <class 'set'>\n"
      ],
      "metadata": {
        "id": "nqMEiX3Xb59s"
      },
      "execution_count": null,
      "outputs": []
    },
    {
      "cell_type": "markdown",
      "source": [
        "getting error set object is not collable"
      ],
      "metadata": {
        "id": "BkSU-HZodWKq"
      }
    },
    {
      "cell_type": "markdown",
      "source": [
        "#SET OPERATION(UNION,INTERSECTION,SUBSTRACTION)"
      ],
      "metadata": {
        "id": "XFrSSj63ib21"
      }
    },
    {
      "cell_type": "markdown",
      "source": [
        "![setoperation.png](data:image/png;base64,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)"
      ],
      "metadata": {
        "id": "89N8uaGfg2pX"
      }
    },
    {
      "cell_type": "code",
      "source": [
        "s1={10,20,30,40,50,60,70}\n",
        "s2={30,40,50,60,70,80,90}\n"
      ],
      "metadata": {
        "id": "cEGqwgFiev_c"
      },
      "execution_count": 2,
      "outputs": []
    },
    {
      "cell_type": "markdown",
      "source": [
        "**UNION**"
      ],
      "metadata": {
        "id": "Hnd1JkJrhW8s"
      }
    },
    {
      "cell_type": "code",
      "source": [
        "print(f\"s1 union s2 ={s1.union(s2)}\")\n",
        "print(f\"s2 union s1 ={s2.union(s1)}\")"
      ],
      "metadata": {
        "colab": {
          "base_uri": "https://localhost:8080/"
        },
        "id": "NOQiC7LphUM6",
        "outputId": "3fd403be-67b9-4644-91ab-228efa11a5aa"
      },
      "execution_count": null,
      "outputs": [
        {
          "output_type": "stream",
          "name": "stdout",
          "text": [
            "s1 union s2 ={70, 40, 10, 80, 50, 20, 90, 60, 30}\n",
            "s2 union s1 ={70, 40, 10, 80, 50, 20, 90, 60, 30}\n"
          ]
        }
      ]
    },
    {
      "cell_type": "markdown",
      "source": [
        "**INTERSECTION**"
      ],
      "metadata": {
        "id": "AAinTw1OhmNd"
      }
    },
    {
      "cell_type": "code",
      "source": [
        "print(f\"s1 intersection s2 ={s1.intersection(s2)}\")\n",
        "print(f\"s2 intersection s1 ={s2.intersection(s1)}\")"
      ],
      "metadata": {
        "colab": {
          "base_uri": "https://localhost:8080/"
        },
        "id": "mwhzR7nRhkcs",
        "outputId": "d5acadcc-03c4-46f9-974a-bc3bf9288e30"
      },
      "execution_count": null,
      "outputs": [
        {
          "output_type": "stream",
          "name": "stdout",
          "text": [
            "s1 intersection s2 ={70, 40, 50, 60, 30}\n",
            "s2 intersection s1 ={70, 40, 50, 60, 30}\n"
          ]
        }
      ]
    },
    {
      "cell_type": "markdown",
      "source": [
        "**INTERSECTION**"
      ],
      "metadata": {
        "id": "VCgYIbV7iHBk"
      }
    },
    {
      "cell_type": "code",
      "source": [
        "print(f\"s1 - s2 ={s1-s2}\")\n",
        "print(f\"s2 - s1 ={s2-s1}\")"
      ],
      "metadata": {
        "colab": {
          "base_uri": "https://localhost:8080/"
        },
        "id": "kL3RXSB6hzl3",
        "outputId": "c94aa7a2-4277-429e-d784-e3a00abf6a54"
      },
      "execution_count": null,
      "outputs": [
        {
          "output_type": "stream",
          "name": "stdout",
          "text": [
            "s1 - s2 ={10, 20}\n",
            "s2 - s1 ={80, 90}\n"
          ]
        }
      ]
    },
    {
      "cell_type": "markdown",
      "source": [
        "**Add**\n"
      ],
      "metadata": {
        "id": "nAus-bGPc4sO"
      }
    },
    {
      "cell_type": "markdown",
      "source": [
        "**It will add value randomly forget about the order.**"
      ],
      "metadata": {
        "id": "30qO_ex2dbFf"
      }
    },
    {
      "cell_type": "code",
      "source": [
        "#Add new element\n",
        "s1.add(1000)\n",
        "print(f\"Values of set {s1}\")"
      ],
      "metadata": {
        "colab": {
          "base_uri": "https://localhost:8080/"
        },
        "id": "2j6hSqI0c7as",
        "outputId": "66d63896-d9b9-4780-8672-0bfa7252a62a"
      },
      "execution_count": 3,
      "outputs": [
        {
          "output_type": "stream",
          "name": "stdout",
          "text": [
            "Values of set {50, 20, 70, 40, 1000, 10, 60, 30}\n"
          ]
        }
      ]
    },
    {
      "cell_type": "markdown",
      "source": [
        "**Discard**"
      ],
      "metadata": {
        "id": "ZCxRi5mYe2lU"
      }
    },
    {
      "cell_type": "markdown",
      "source": [
        "It is used to remove an element"
      ],
      "metadata": {
        "id": "iXdyLQyxe7J5"
      }
    },
    {
      "cell_type": "markdown",
      "source": [
        "**Discards a non-existing item**"
      ],
      "metadata": {
        "id": "2W901lyXgZCB"
      }
    },
    {
      "cell_type": "markdown",
      "source": [
        "**Discards the value if present**"
      ],
      "metadata": {
        "id": "uKYgQ-LDgd7V"
      }
    },
    {
      "cell_type": "markdown",
      "source": [
        "**Application does not crash**"
      ],
      "metadata": {
        "id": "_0ZFaoj2gk25"
      }
    },
    {
      "cell_type": "code",
      "source": [
        "s1.remove(1000)\n",
        "print(f\"values of set: {s1}\")"
      ],
      "metadata": {
        "colab": {
          "base_uri": "https://localhost:8080/"
        },
        "id": "C9Bg5C0wdQNs",
        "outputId": "8aa2bb50-927c-4825-d5a0-f6f695f14258"
      },
      "execution_count": 4,
      "outputs": [
        {
          "output_type": "stream",
          "name": "stdout",
          "text": [
            "values of set: {50, 20, 70, 40, 10, 60, 30}\n"
          ]
        }
      ]
    },
    {
      "cell_type": "markdown",
      "source": [
        "**Remove**"
      ],
      "metadata": {
        "id": "fQ_IClglfd12"
      }
    },
    {
      "cell_type": "markdown",
      "source": [
        "It is used to remove an element"
      ],
      "metadata": {
        "id": "cvqcTdtOfw4g"
      }
    },
    {
      "cell_type": "markdown",
      "source": [
        "**If we remove the item which is not present in set Application will Crash.**"
      ],
      "metadata": {
        "id": "HwXqgYTKgrf3"
      }
    },
    {
      "cell_type": "markdown",
      "source": [
        "**Removes item only if it is present.**"
      ],
      "metadata": {
        "id": "M7gTblTAg4D1"
      }
    },
    {
      "cell_type": "code",
      "source": [
        "s1.remove(30)\n",
        "print(f\"values of set: {s1}\")"
      ],
      "metadata": {
        "colab": {
          "base_uri": "https://localhost:8080/"
        },
        "id": "JelgAMtLfcBZ",
        "outputId": "4f1fb022-0da3-4798-fae3-6d0551b178dc"
      },
      "execution_count": 5,
      "outputs": [
        {
          "output_type": "stream",
          "name": "stdout",
          "text": [
            "values of set: {50, 20, 70, 40, 10, 60}\n"
          ]
        }
      ]
    },
    {
      "cell_type": "code",
      "source": [
        "#pop is also used to remove value but can consider random\n",
        "s1.pop()\n",
        "print(f\"values of set: {s1}\")"
      ],
      "metadata": {
        "colab": {
          "base_uri": "https://localhost:8080/"
        },
        "id": "au1YchKqf3kN",
        "outputId": "098cde93-4c61-41b8-bd90-a41ab8f89f7f"
      },
      "execution_count": 6,
      "outputs": [
        {
          "output_type": "stream",
          "name": "stdout",
          "text": [
            "values of set: {20, 70, 40, 10, 60}\n"
          ]
        }
      ]
    },
    {
      "cell_type": "markdown",
      "source": [
        "#CONVERT THE LIST INTO SET\n"
      ],
      "metadata": {
        "id": "021tgI8Gh2xR"
      }
    },
    {
      "cell_type": "markdown",
      "source": [
        "WE WILL DO THIS USUALLY TO REMOVE DUPLICATE VALUES."
      ],
      "metadata": {
        "id": "CzQGbbjXh8Pt"
      }
    },
    {
      "cell_type": "code",
      "source": [
        "countries=[\"india\",\"usa\",\"uk\",\"china\",\"india\"]\n",
        "v1=set(countries)\n",
        "print(f\"Values:{v1},type={type(v1)}\")"
      ],
      "metadata": {
        "colab": {
          "base_uri": "https://localhost:8080/"
        },
        "id": "TUgMPjPzhZwJ",
        "outputId": "443f943d-0707-4e9b-bc57-51e4f6aea44e"
      },
      "execution_count": 7,
      "outputs": [
        {
          "output_type": "stream",
          "name": "stdout",
          "text": [
            "Values:{'china', 'uk', 'india', 'usa'},type=<class 'set'>\n"
          ]
        }
      ]
    },
    {
      "cell_type": "markdown",
      "source": [
        "#Frozen Set"
      ],
      "metadata": {
        "id": "ijfWuTXBCq23"
      }
    },
    {
      "cell_type": "markdown",
      "source": [
        "**SINCE OUR SETS ARE MUTABLE AND WE WANT TO CREATE A IMMUTABLE SET WE CAN DO IT USING FROZEN SET**"
      ],
      "metadata": {
        "id": "JKjS1ZWACuy7"
      }
    },
    {
      "cell_type": "code",
      "source": [
        "def frozenfunction():\n",
        "  #mutable\n",
        "  s1={10,20,30}\n",
        "  s1.add(40)\n",
        "  print(s1)\n",
        "  #to create a immutable set\n",
        "  s2=frozenset([10,20,30])\n",
        "  print(s2)\n",
        "\n",
        "frozenfunction()"
      ],
      "metadata": {
        "colab": {
          "base_uri": "https://localhost:8080/"
        },
        "id": "IAcs7Zm_C5JH",
        "outputId": "73141bd4-5349-479f-93f9-29e7bd28e1b9"
      },
      "execution_count": 24,
      "outputs": [
        {
          "output_type": "stream",
          "name": "stdout",
          "text": [
            "{40, 10, 20, 30}\n",
            "frozenset({10, 20, 30})\n"
          ]
        }
      ]
    },
    {
      "cell_type": "markdown",
      "source": [
        "#DICTIONARY"
      ],
      "metadata": {
        "id": "Mxpu7omn27tp"
      }
    },
    {
      "cell_type": "markdown",
      "source": [
        "**IT IS SIMPLY COLLECTION OF KEY VALUE PAIRS**"
      ],
      "metadata": {
        "id": "0_IPNUo43AXr"
      }
    },
    {
      "cell_type": "markdown",
      "source": [
        "**KEY MUST BE A UNIQUE STRING**"
      ],
      "metadata": {
        "id": "Ub0gXHAY4Zc0"
      }
    },
    {
      "cell_type": "markdown",
      "source": [
        "**VALUE CAN BE OF ANY TYPE**"
      ],
      "metadata": {
        "id": "Veq6qyH35QNG"
      }
    },
    {
      "cell_type": "markdown",
      "source": [
        "**IF WE USE DUPLICATE KEYS IT WILL NOT GIVE ANY ERROR BUT THE LAST OCCURANCE OF THE KEY WILL BE CONSIDERED**"
      ],
      "metadata": {
        "id": "wfVBX_V05X9F"
      }
    },
    {
      "cell_type": "markdown",
      "source": [
        "**TRADITIONALLY KEYS MUST BE INTEGER BUT IT STILL SUPPORT OTHER TYPE OF A KEYS**"
      ],
      "metadata": {
        "id": "Ea9cyu6N66Bl"
      }
    },
    {
      "cell_type": "markdown",
      "source": [
        "![DICTIONARY.png](data:image/png;base64,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)"
      ],
      "metadata": {
        "id": "WaLvqDf255xS"
      }
    },
    {
      "cell_type": "code",
      "source": [
        "dict={\"name\":\"pranjal\",\"address\":\"pune\",\"age\":22}\n",
        "print(dict)"
      ],
      "metadata": {
        "colab": {
          "base_uri": "https://localhost:8080/"
        },
        "id": "dPBOnDe361yg",
        "outputId": "2b2d5454-d0e8-44cb-c922-7bd15d0ceffc"
      },
      "execution_count": 9,
      "outputs": [
        {
          "output_type": "stream",
          "name": "stdout",
          "text": [
            "{'name': 'pranjal', 'address': 'pune', 'age': 22}\n"
          ]
        }
      ]
    },
    {
      "cell_type": "code",
      "source": [
        "print(f\"Name:{dict['name']}\")\n",
        "print(f\"Address:{dict['address']}\")\n",
        "print(f\"Age:{dict['age']}\")"
      ],
      "metadata": {
        "colab": {
          "base_uri": "https://localhost:8080/"
        },
        "id": "HnjeJWIq7P1J",
        "outputId": "93fa38cd-7088-4893-8f7e-f0ea58347557"
      },
      "execution_count": 11,
      "outputs": [
        {
          "output_type": "stream",
          "name": "stdout",
          "text": [
            "Name:pranjal\n",
            "Address:pune\n",
            "Age:22\n"
          ]
        }
      ]
    },
    {
      "cell_type": "markdown",
      "source": [
        "**KEYS**"
      ],
      "metadata": {
        "id": "YXGsxLQp7z76"
      }
    },
    {
      "cell_type": "code",
      "source": [
        "#To get all the keys from the dictionary\n",
        "print(f\"Keys :{dict.keys()}\")"
      ],
      "metadata": {
        "colab": {
          "base_uri": "https://localhost:8080/"
        },
        "id": "VCtApPX47frT",
        "outputId": "1f427bc6-e12e-4d12-e77d-d126a373f536"
      },
      "execution_count": 12,
      "outputs": [
        {
          "output_type": "stream",
          "name": "stdout",
          "text": [
            "Keys :dict_keys(['name', 'address', 'age'])\n"
          ]
        }
      ]
    },
    {
      "cell_type": "markdown",
      "source": [
        "**VALUES**"
      ],
      "metadata": {
        "id": "fG7DSLvX8D9O"
      }
    },
    {
      "cell_type": "code",
      "source": [
        "# To get all the values from the dictionary\n",
        "print(f\"Values :{dict.values()}\")"
      ],
      "metadata": {
        "colab": {
          "base_uri": "https://localhost:8080/"
        },
        "id": "Z9s1JRHb8Cwf",
        "outputId": "e1829a85-2c70-42cc-adc2-e71a360923c3"
      },
      "execution_count": 13,
      "outputs": [
        {
          "output_type": "stream",
          "name": "stdout",
          "text": [
            "Values :dict_values(['pranjal', 'pune', 22])\n"
          ]
        }
      ]
    },
    {
      "cell_type": "code",
      "source": [
        "# To get all the key values there is one more way\n",
        "for key in dict.keys():\n",
        "  print(f\"{key} = {dict[key]}\")"
      ],
      "metadata": {
        "colab": {
          "base_uri": "https://localhost:8080/"
        },
        "id": "OA2V5q1P8TQ2",
        "outputId": "bdd97a72-daa0-40bf-abee-e11c59f1982b"
      },
      "execution_count": 14,
      "outputs": [
        {
          "output_type": "stream",
          "name": "stdout",
          "text": [
            "name = pranjal\n",
            "address = pune\n",
            "age = 22\n"
          ]
        }
      ]
    },
    {
      "cell_type": "markdown",
      "source": [
        "WE CAN GET VALUES FROM DICTIONARY BY TWO WAYS 1)[ ]BRACKETS 2)USING get() function"
      ],
      "metadata": {
        "id": "fZhsatl--1Tg"
      }
    },
    {
      "cell_type": "code",
      "source": [
        "dict={\"name\":\"pranjal\",\"address\":\"pune\",\"age\":22}\n",
        "def dicFun():\n",
        "  print(f\"Address:{dict['address']}\") #by using normal square bracket\n",
        "  print(f\"Address:{dict.get('address')}\") #this is by using get()\n",
        "\n",
        "dicFun()"
      ],
      "metadata": {
        "colab": {
          "base_uri": "https://localhost:8080/"
        },
        "id": "WmxUArYS9NSJ",
        "outputId": "bd32fcc0-f0ed-4940-dd3b-98cd76a692aa"
      },
      "execution_count": 16,
      "outputs": [
        {
          "output_type": "stream",
          "name": "stdout",
          "text": [
            "Address:pune\n",
            "Address:pune\n"
          ]
        }
      ]
    },
    {
      "cell_type": "markdown",
      "source": [
        "**what if we give the which does not exist in the dictionary(for example key=phone)**"
      ],
      "metadata": {
        "id": "--Mp4bEtAYC0"
      }
    },
    {
      "cell_type": "code",
      "source": [
        "# this will  throw an error\n",
        "print(f\"Phone: {dict['phone']}\")"
      ],
      "metadata": {
        "id": "sJ2EBpoZ_mQQ"
      },
      "execution_count": 20,
      "outputs": []
    },
    {
      "cell_type": "markdown",
      "source": [
        "**APPLICATION WILL CRASH IN THE ABOVE CASE ⬆️**"
      ],
      "metadata": {
        "id": "zyJzlItZA-_0"
      }
    },
    {
      "cell_type": "code",
      "source": [
        "# get() will not throw any error\n",
        "print(f\"Phone ={dict.get('phone')}\")"
      ],
      "metadata": {
        "colab": {
          "base_uri": "https://localhost:8080/"
        },
        "id": "rBVnFEMUAPKw",
        "outputId": "98c759f5-62f5-48bc-e63b-fed294e489b9"
      },
      "execution_count": 21,
      "outputs": [
        {
          "output_type": "stream",
          "name": "stdout",
          "text": [
            "Address =None\n"
          ]
        }
      ]
    },
    {
      "cell_type": "markdown",
      "source": [
        "**EMPTY DICT**"
      ],
      "metadata": {
        "id": "cCpGw13RFkXu"
      }
    },
    {
      "cell_type": "code",
      "source": [
        "empty_dict={}\n",
        "print(empty_dict)"
      ],
      "metadata": {
        "colab": {
          "base_uri": "https://localhost:8080/"
        },
        "id": "EZYkdrVjA2z_",
        "outputId": "df035104-3e30-43c2-baf0-c91519b3406d"
      },
      "execution_count": 26,
      "outputs": [
        {
          "output_type": "stream",
          "name": "stdout",
          "text": [
            "{}\n"
          ]
        }
      ]
    },
    {
      "cell_type": "markdown",
      "source": [
        "**HOW TO ACCEPT USER INPUT**"
      ],
      "metadata": {
        "id": "y_bgdYMuGAGa"
      }
    },
    {
      "cell_type": "markdown",
      "source": [
        "TO ACCEPT STRING INPUT |--> name=input()"
      ],
      "metadata": {
        "id": "22qkQQL6GIkp"
      }
    },
    {
      "cell_type": "markdown",
      "source": [
        "TO ACCEPT INTEGER INPUT |--> name=int(input( ))\n",
        " |this is also called typecasting|"
      ],
      "metadata": {
        "id": "VyhQRKxYGTNy"
      }
    },
    {
      "cell_type": "markdown",
      "source": [
        "#MULTI-DIMENSIONAL COLLETIONS"
      ],
      "metadata": {
        "id": "FjTYfcZNH23G"
      }
    },
    {
      "cell_type": "markdown",
      "source": [
        "![MULTIDIMENSION COLLECTION.png](data:image/png;base64,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)"
      ],
      "metadata": {
        "id": "2I2-oIXwJzor"
      }
    },
    {
      "cell_type": "code",
      "source": [
        "# we will create here lists inside list\n",
        "l10=[[10,20],[30,40]]\n",
        "print(l10)"
      ],
      "metadata": {
        "colab": {
          "base_uri": "https://localhost:8080/"
        },
        "id": "LJyE6LB3FsAz",
        "outputId": "d9ad4f2b-2de8-4554-9746-24cdc52ea844"
      },
      "execution_count": 27,
      "outputs": [
        {
          "output_type": "stream",
          "name": "stdout",
          "text": [
            "[[10, 20], [30, 40]]\n"
          ]
        }
      ]
    },
    {
      "cell_type": "code",
      "source": [
        "print(f\"l10[0] ={l10[0]}\") #it will give 10,20\n",
        "print(f\"l10[1] ={l10[1]}\") #it will give 30,40\n",
        "print(f\"l10[0][0]={l10[0][0]}\")  #it will give 10\n",
        "print(f\"l10[0][1]={l10[0][1]}\")  #it will give 20\n",
        "print(f\"l10[1][0]={l10[1][0]}\")  #it will give 30\n",
        "print(f\"l10[1][1]={l10[1][1]}\")  #it will give 40"
      ],
      "metadata": {
        "colab": {
          "base_uri": "https://localhost:8080/"
        },
        "id": "8XDFbRieKQii",
        "outputId": "96c5a725-d8e2-4232-ec44-fdcf6e6f55e9"
      },
      "execution_count": 31,
      "outputs": [
        {
          "output_type": "stream",
          "name": "stdout",
          "text": [
            "l10[0] =[10, 20]\n",
            "l10[1] =[30, 40]\n",
            "l10[0][0]=10\n",
            "l10[0][1]=20\n",
            "l10[1][0]=30\n",
            "l10[1][1]=40\n"
          ]
        }
      ]
    },
    {
      "cell_type": "code",
      "source": [
        "l=[10,20,30,40]\n",
        "for value in l:\n",
        "  print(f\"Value ={value}\")"
      ],
      "metadata": {
        "colab": {
          "base_uri": "https://localhost:8080/"
        },
        "id": "hyPAVpeZSSQm",
        "outputId": "f3d6eaa9-5ef0-4191-fb36-9ab88fd0ade5"
      },
      "execution_count": 33,
      "outputs": [
        {
          "output_type": "stream",
          "name": "stdout",
          "text": [
            "Value =10\n",
            "Value =20\n",
            "Value =30\n",
            "Value =40\n"
          ]
        }
      ]
    },
    {
      "cell_type": "code",
      "source": [
        "#we can traverse multi-dimensional collections using for loop\n",
        "\n",
        "for i in l10:\n",
        "  for j in i:\n",
        "    print(f\"values ={j}\")\n",
        "  print(f\"-*-\"*30)"
      ],
      "metadata": {
        "colab": {
          "base_uri": "https://localhost:8080/"
        },
        "id": "nh6SzJeMKl4c",
        "outputId": "3b12d752-21fb-4e2b-fe49-c1356391036d"
      },
      "execution_count": 32,
      "outputs": [
        {
          "output_type": "stream",
          "name": "stdout",
          "text": [
            "values =10\n",
            "values =20\n",
            "-*--*--*--*--*--*--*--*--*--*--*--*--*--*--*--*--*--*--*--*--*--*--*--*--*--*--*--*--*--*-\n",
            "values =30\n",
            "values =40\n",
            "-*--*--*--*--*--*--*--*--*--*--*--*--*--*--*--*--*--*--*--*--*--*--*--*--*--*--*--*--*--*-\n"
          ]
        }
      ]
    },
    {
      "cell_type": "code",
      "source": [
        "#using traditional for loop\n",
        "for row in range(len(l10)):\n",
        "  print(f\"values ={l10[row]}\")"
      ],
      "metadata": {
        "colab": {
          "base_uri": "https://localhost:8080/"
        },
        "id": "6q2ZgYV2SFjO",
        "outputId": "b5487ead-88b3-494a-acc8-679bd5d072ee"
      },
      "execution_count": 34,
      "outputs": [
        {
          "output_type": "stream",
          "name": "stdout",
          "text": [
            "values =[10, 20]\n",
            "values =[30, 40]\n"
          ]
        }
      ]
    },
    {
      "cell_type": "markdown",
      "source": [
        "![traditional for.png](data:image/png;base64,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)"
      ],
      "metadata": {
        "id": "J4v5_xImUPun"
      }
    },
    {
      "cell_type": "markdown",
      "source": [
        "**In python Multidimension array is nothing but collection of collections.**"
      ],
      "metadata": {
        "id": "3QXKPER5USJg"
      }
    },
    {
      "cell_type": "code",
      "source": [
        "persons=[(\"person1\",\"pune\",40),\n",
        "        (\"person2\",\"mumbai\",30),\n",
        "        (\"person3\",\"satara\",20)\n",
        "        ]"
      ],
      "metadata": {
        "id": "59SimzdPTRPV"
      },
      "execution_count": 35,
      "outputs": []
    },
    {
      "cell_type": "code",
      "source": [
        "#tuple can be unpacked with different variables\n",
        "for (name,address,age) in persons:\n",
        "  print(f\"name ={name}\")\n",
        "  print(f\"address ={address}\")\n",
        "  print(f\"age ={age}\")\n",
        "  print(\"-*\"*20)"
      ],
      "metadata": {
        "colab": {
          "base_uri": "https://localhost:8080/"
        },
        "id": "9NKbX4-Od1I7",
        "outputId": "21739b9a-fc40-4078-a260-9424efbfac98"
      },
      "execution_count": 38,
      "outputs": [
        {
          "output_type": "stream",
          "name": "stdout",
          "text": [
            "name =person1\n",
            "address =pune\n",
            "age =40\n",
            "-*-*-*-*-*-*-*-*-*-*-*-*-*-*-*-*-*-*-*-*\n",
            "name =person2\n",
            "address =mumbai\n",
            "age =30\n",
            "-*-*-*-*-*-*-*-*-*-*-*-*-*-*-*-*-*-*-*-*\n",
            "name =person3\n",
            "address =satara\n",
            "age =20\n",
            "-*-*-*-*-*-*-*-*-*-*-*-*-*-*-*-*-*-*-*-*\n"
          ]
        }
      ]
    },
    {
      "cell_type": "code",
      "source": [],
      "metadata": {
        "id": "UOM55ykEeHPl"
      },
      "execution_count": null,
      "outputs": []
    }
  ]
}